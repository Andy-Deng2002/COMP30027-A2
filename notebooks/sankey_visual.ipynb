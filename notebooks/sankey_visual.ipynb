{
 "cells": [
  {
   "cell_type": "code",
   "execution_count": null,
   "metadata": {},
   "outputs": [],
   "source": [
    "import numpy as np\n",
    "import os\n",
    "\n",
    "file_path = r\"C:\\Users\\xiluo\\Desktop\\UoM 2025 S1\\ML\\COMP30027 asmt2\"\n",
    "load_dir = os.path.join(file_path, \"results\", \"sankey_data\")\n",
    "\n",
    "y_val_split = np.load(os.path.join(load_dir, \"y_train.npy\"))\n",
    "holdout_y = np.load(os.path.join(load_dir, \"holdout_y.npy\"))\n",
    "cnn_val_pred = np.load(os.path.join(load_dir, \"cnn_val_pred_labels.npy\"))\n",
    "xgb_val_pred = np.load(os.path.join(load_dir, \"xgb_val_pred_labels.npy\"))\n",
    "svm_val_pred = np.load(os.path.join(load_dir, \"svm_val_pred_labels.npy\"))\n",
    "meta_holdout_pred = np.load(os.path.join(load_dir, \"ensemble_holdout_preds.npy\"))\n",
    "cnn_holdout_pred = np.load(os.path.join(load_dir, \"cnn_holdout_pred_labels.npy\"))\n",
    "xgb_holdout_pred = np.load(os.path.join(load_dir, \"xgb_holdout_pred_labels.npy\"))\n",
    "svm_holdout_pred = np.load(os.path.join(load_dir, \"svm_holdout_pred_labels.npy\"))"
   ]
  },
  {
   "cell_type": "code",
   "execution_count": null,
   "metadata": {},
   "outputs": [],
   "source": [
    "import sys\n",
    "sys.path.append('../utils')\n",
    "from sankey import create_sankey_plot\n",
    "\n",
    "# CNN\n",
    "create_sankey_plot(cnn_val_pred, y_val_split, \"CNN\")\n"
   ]
  },
  {
   "cell_type": "code",
   "execution_count": null,
   "metadata": {},
   "outputs": [],
   "source": [
    "# XGBoost\n",
    "create_sankey_plot(xgb_val_pred, y_val_split, \"XGBoost\")"
   ]
  },
  {
   "cell_type": "code",
   "execution_count": null,
   "metadata": {},
   "outputs": [],
   "source": [
    "# SVM\n",
    "create_sankey_plot(svm_val_pred, y_val_split, \"SVM\")"
   ]
  },
  {
   "cell_type": "code",
   "execution_count": null,
   "metadata": {},
   "outputs": [],
   "source": [
    "create_sankey_plot(cnn_holdout_pred, holdout_y, \"CNN\")"
   ]
  },
  {
   "cell_type": "code",
   "execution_count": null,
   "metadata": {},
   "outputs": [],
   "source": [
    "create_sankey_plot(xgb_holdout_pred, holdout_y, \"XGBoost\")"
   ]
  },
  {
   "cell_type": "code",
   "execution_count": null,
   "metadata": {},
   "outputs": [],
   "source": [
    "create_sankey_plot(svm_holdout_pred, holdout_y, \"SVM\")"
   ]
  },
  {
   "cell_type": "code",
   "execution_count": null,
   "metadata": {},
   "outputs": [],
   "source": [
    "create_sankey_plot(meta_holdout_pred, holdout_y, \"Ensemble\")"
   ]
  }
 ],
 "metadata": {
  "kernelspec": {
   "display_name": "COMP30027_A2",
   "language": "python",
   "name": "python3"
  },
  "language_info": {
   "codemirror_mode": {
    "name": "ipython",
    "version": 3
   },
   "file_extension": ".py",
   "mimetype": "text/x-python",
   "name": "python",
   "nbconvert_exporter": "python",
   "pygments_lexer": "ipython3",
   "version": "3.13.2"
  }
 },
 "nbformat": 4,
 "nbformat_minor": 2
}
